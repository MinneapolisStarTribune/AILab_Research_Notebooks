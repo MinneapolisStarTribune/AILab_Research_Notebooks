{
 "cells": [
  {
   "cell_type": "code",
   "execution_count": 11,
   "id": "3e633a47-79a1-4b57-aafa-46bbff74ebba",
   "metadata": {},
   "outputs": [],
   "source": [
    "#!pip install pymongo\n",
    "#!pip install haystack-ai\n",
    "#!pip install mongodb-atlas-haystack\n",
    "#!pip install sentence-transformers\n"
   ]
  },
  {
   "cell_type": "code",
   "execution_count": null,
   "id": "f0f68afe-469f-43ad-ba85-3b11e6fd6fc4",
   "metadata": {},
   "outputs": [],
   "source": []
  },
  {
   "cell_type": "code",
   "execution_count": 1,
   "id": "21814700-652a-459c-a256-7f0c8d27d041",
   "metadata": {},
   "outputs": [],
   "source": [
    "import pymongo\n",
    "import os\n",
    "from haystack import Pipeline, Document\n",
    "from haystack.document_stores.types import DuplicatePolicy\n",
    "from haystack.components.writers import DocumentWriter\n",
    "from haystack.components.generators import OpenAIGenerator\n",
    "from haystack.components.builders.prompt_builder import PromptBuilder\n",
    "from haystack.components.embedders import SentenceTransformersDocumentEmbedder, SentenceTransformersTextEmbedder\n",
    "from haystack_integrations.document_stores.mongodb_atlas import MongoDBAtlasDocumentStore\n",
    "from haystack_integrations.components.retrievers.mongodb_atlas import MongoDBAtlasEmbeddingRetriever\n",
    "from haystack.document_stores.in_memory import InMemoryDocumentStore\n",
    "from haystack.components.retrievers.in_memory import InMemoryEmbeddingRetriever\n",
    "from pymongo import MongoClient\n",
    "from getpass import getpass\n",
    "from haystack.components.generators import OpenAIGenerator\n"
   ]
  },
  {
   "cell_type": "code",
   "execution_count": 2,
   "id": "7eeced01-f601-4cd6-9968-3034726f924d",
   "metadata": {},
   "outputs": [],
   "source": [
    "os.environ['MONGO_CONNECTION_STRING'] = 'connstringhere'\n",
    "os.environ['OPENAI_API_KEY'] = 'apikeyhere'"
   ]
  },
  {
   "cell_type": "markdown",
   "id": "4c65ca3f-c94b-4b82-8f42-9eef278c886d",
   "metadata": {},
   "source": [
    "The below is code that only runs locally in notebook . I disconnected this from mongo as there's a lot of custom logic needed to retrieve non embe"
   ]
  },
  {
   "cell_type": "code",
   "execution_count": 25,
   "id": "1c606259-a6a0-4456-817e-fbb8c35c73b2",
   "metadata": {},
   "outputs": [
    {
     "data": {
      "application/vnd.jupyter.widget-view+json": {
       "model_id": "40d48cee80cc4fd68d8286e323129460",
       "version_major": 2,
       "version_minor": 0
      },
      "text/plain": [
       "Batches:   0%|          | 0/1 [00:00<?, ?it/s]"
      ]
     },
     "metadata": {},
     "output_type": "display_data"
    },
    {
     "data": {
      "application/vnd.jupyter.widget-view+json": {
       "model_id": "dea842069b58499ca593ed142bed8990",
       "version_major": 2,
       "version_minor": 0
      },
      "text/plain": [
       "Batches:   0%|          | 0/1 [00:00<?, ?it/s]"
      ]
     },
     "metadata": {},
     "output_type": "display_data"
    },
    {
     "name": "stderr",
     "output_type": "stream",
     "text": [
      "ID 'b84e57c682405d25454f95b77a440a431c9044da37b05b3134eae9445d404d48' already exists\n",
      "ID '7b0f2e58545f7c4c00689434aa17d6734a05fcd3b104efc617687e0c328938a5' already exists\n",
      "ID '3fdd6a6fe41ec4db7e98ff90b05a6e0f56f624a67b275e18ce0549221d18d4fe' already exists\n"
     ]
    },
    {
     "data": {
      "application/vnd.jupyter.widget-view+json": {
       "model_id": "b5e82ee89acf4bc49fa45e47ab3d5eb6",
       "version_major": 2,
       "version_minor": 0
      },
      "text/plain": [
       "Batches:   0%|          | 0/1 [00:00<?, ?it/s]"
      ]
     },
     "metadata": {},
     "output_type": "display_data"
    },
    {
     "name": "stdout",
     "output_type": "stream",
     "text": [
      "{'llm': {'replies': ['Yes, there are documents about dogs. There are mentions of a dog named Beau and a dog named Steve.'], 'meta': [{'model': 'gpt-4o-mini-2024-07-18', 'index': 0, 'finish_reason': 'stop', 'usage': {'completion_tokens': 22, 'prompt_tokens': 57, 'total_tokens': 79, 'completion_tokens_details': CompletionTokensDetails(accepted_prediction_tokens=0, audio_tokens=0, reasoning_tokens=0, rejected_prediction_tokens=0), 'prompt_tokens_details': PromptTokensDetails(audio_tokens=0, cached_tokens=0)}}]}}\n"
     ]
    }
   ],
   "source": [
    "\n",
    "#Create some example documents\n",
    "doc_embedder = SentenceTransformersDocumentEmbedder(model=\"intfloat/e5-base-v2\")\n",
    "\n",
    "documents = [\n",
    "    Document(content=\"there is is a dog named beau.\"),\n",
    "    Document(content=\"there is a dog named steve.\"),\n",
    "    Document(content=\"there is a cat named greg.\"),\n",
    "]\n",
    "\n",
    "\n",
    "#document_store = MongoDBAtlasDocumentStore(\n",
    "#    database_name=\"contentDeliveryApi\",\n",
    "#    collection_name=\"Article\",\n",
    "#    vector_search_index=\"bridex\",\n",
    "#)\n",
    "\n",
    "document_store = InMemoryDocumentStore()\n",
    "doc_embedder.warm_up()\n",
    "docs_with_embeddings = doc_embedder.run(documents)\n",
    "document_store.write_documents(docs_with_embeddings[\"documents\"])\n",
    "\n",
    "# Define some more components\n",
    "doc_writer = DocumentWriter(document_store=document_store, policy=DuplicatePolicy.SKIP)\n",
    "#retriever = MongoDBAtlasEmbeddingRetriever(document_store=document_store)\n",
    "retriever = InMemoryEmbeddingRetriever(document_store)\n",
    "query_embedder = SentenceTransformersTextEmbedder(model=\"intfloat/e5-base-v2\")\n",
    "generator = OpenAIGenerator(model=\"gpt-4o-mini\")\n",
    "\n",
    "# Pipeline that ingests document for retrieval\n",
    "indexing_pipe = Pipeline()\n",
    "indexing_pipe.add_component(instance=doc_embedder, name=\"doc_embedder\")\n",
    "indexing_pipe.add_component(instance=doc_writer, name=\"doc_writer\")\n",
    "\n",
    "indexing_pipe.connect(\"doc_embedder.documents\", \"doc_writer.documents\")\n",
    "indexing_pipe.run({\"doc_embedder\": {\"documents\": documents}})\n",
    "\n",
    "# Build a RAG pipeline with a Retriever to get documents relevant to \n",
    "# the query, a PromptBuilder to create a custom prompt and the OpenAIGenerator (LLM)\n",
    "prompt_template = \"\"\"\n",
    "Given these documents, answer the question.\\nDocuments:\n",
    "{% for doc in documents %}\n",
    "    {{ doc.content }}\n",
    "{% endfor %}\n",
    "\n",
    "\\nQuestion: {{question}}\n",
    "\\nAnswer:\n",
    "\"\"\"\n",
    "rag_pipeline = Pipeline()\n",
    "rag_pipeline.add_component(instance=query_embedder, name=\"query_embedder\")\n",
    "rag_pipeline.add_component(\"retriever\", retriever)\n",
    "rag_pipeline.add_component(instance=PromptBuilder(template=prompt_template), name=\"prompt_builder\")\n",
    "rag_pipeline.add_component(instance=OpenAIGenerator(), name=\"llm\")\n",
    "rag_pipeline.connect(\"query_embedder\", \"retriever.query_embedding\")\n",
    "rag_pipeline.connect(\"retriever\", \"prompt_builder.documents\")\n",
    "rag_pipeline.connect(\"prompt_builder\", \"llm\")\n",
    "\n",
    "# Ask a question on the data you just added.\n",
    "question = \"do you see any documents about a dog\"\n",
    "result = rag_pipeline.run(\n",
    "    {\n",
    "        \"query_embedder\": {\"text\": question},\n",
    "        \"prompt_builder\": {\"question\": question},\n",
    "    }\n",
    ")\n",
    "print(result)"
   ]
  },
  {
   "cell_type": "code",
   "execution_count": null,
   "id": "7c07d0c5-0feb-4a44-bdc0-487f458de24e",
   "metadata": {},
   "outputs": [],
   "source": []
  },
  {
   "cell_type": "code",
   "execution_count": null,
   "id": "2b957714-c1ca-4850-a460-ea0fb24bd03c",
   "metadata": {},
   "outputs": [],
   "source": []
  },
  {
   "cell_type": "code",
   "execution_count": null,
   "id": "40d8181e-974f-4998-ab9a-e5734c9d35f3",
   "metadata": {},
   "outputs": [],
   "source": []
  },
  {
   "cell_type": "code",
   "execution_count": null,
   "id": "44ea79b4-bb59-4796-bc9e-e31989d1bc8c",
   "metadata": {},
   "outputs": [],
   "source": []
  }
 ],
 "metadata": {
  "kernelspec": {
   "display_name": "projectname",
   "language": "python",
   "name": "projectname"
  },
  "language_info": {
   "codemirror_mode": {
    "name": "ipython",
    "version": 3
   },
   "file_extension": ".py",
   "mimetype": "text/x-python",
   "name": "python",
   "nbconvert_exporter": "python",
   "pygments_lexer": "ipython3",
   "version": "3.12.7"
  }
 },
 "nbformat": 4,
 "nbformat_minor": 5
}
