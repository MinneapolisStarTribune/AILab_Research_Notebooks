{
 "cells": [
  {
   "cell_type": "code",
   "execution_count": 41,
   "id": "7a24dfb9-a02d-48f2-a20e-a6ddc58ea8ea",
   "metadata": {},
   "outputs": [],
   "source": [
    "#pip install \"pymongo[srv]\"==3.12\n",
    "#pip install --quiet pymongo gpt4all sentence_transformers\n",
    "from pymongo import MongoClient\n",
    "from sentence_transformers import SentenceTransformer\n",
    "from sklearn.metrics.pairwise import cosine_similarity\n",
    "import pymongo\n"
   ]
  },
  {
   "cell_type": "code",
   "execution_count": 1,
   "id": "3fe73c55-35cc-4513-bc44-6335e0f1cb6f",
   "metadata": {},
   "outputs": [],
   "source": [
    "ATLAS_CONNECTION_STRING = (\"connstringhere\")\n"
   ]
  },
  {
   "cell_type": "code",
   "execution_count": 23,
   "id": "d97f6d7b-e630-469d-bbaf-1da15d64d374",
   "metadata": {},
   "outputs": [],
   "source": [
    "def pad_embedding(embedding, target_dim=3072):\n",
    "    \"\"\"Pads a 1024-dimensional vector to match 3072 dimensions with zeros.\"\"\"\n",
    "    if len(embedding) < target_dim:\n",
    "        return embedding + [0.0] * (target_dim - len(embedding))\n",
    "    elif len(embedding) > target_dim:\n",
    "        return embedding[:target_dim]  # Truncate if somehow larger\n",
    "    return embedding\n",
    "\n",
    "def get_embedding(text):\n",
    "    \"\"\"Generates and pads embeddings to match the required dimensions.\"\"\"\n",
    "    embedding = model.encode(text).tolist()  # Generate the 1024-dimensional vector\n",
    "    return pad_embedding(embedding, target_dim=3072)  # Pad to 3072 dimensions\n"
   ]
  },
  {
   "cell_type": "code",
   "execution_count": 36,
   "id": "a3ce6503-ddce-4155-a49b-b381c66029e4",
   "metadata": {},
   "outputs": [],
   "source": [
    "\n",
    "# Connect to your local Atlas deployment or Atlas Cluster\n",
    "client = MongoClient(ATLAS_CONNECTION_STRING)\n",
    "collection = client[\"contentDeliveryApi\"][\"Article\"]\n",
    "# Load the embedding model (https://huggingface.co/sentence-transformers/mixedbread-ai/mxbai-embed-large-v1)\n",
    "#model_path = \"<model-path>\"\n",
    "#model = SentenceTransformer('mixedbread-ai/mxbai-embed-large-v1')\n",
    "#model.save(model_path)\n",
    "#model = SentenceTransformer(model_path)\n",
    "# Define function to generate embeddings\n",
    "def get_query_results(query):\n",
    "    # Generate embedding for the query\n",
    "    query_embedding = get_embedding(query)\n",
    "    \n",
    "    # Perform vector search using the query embedding\n",
    "    pipeline = [\n",
    "        {\n",
    "            \"$vectorSearch\": {\n",
    "                \"index\": \"vector_index\",  # Assuming you have a vector index set up\n",
    "                \"queryVector\": query_embedding,\n",
    "                \"path\": \"jsonBody.content_embedding\",  # Path to where the embeddings are stored in your document\n",
    "                \"exact\": True,\n",
    "                \"limit\": 5  # Adjust this to how many results you want\n",
    "            }\n",
    "        },\n",
    "        {\n",
    "            \"$project\": {\n",
    "                \"_id\": 0,\n",
    "                \"headline\": 1,\n",
    "                \"urlSlug\": 1,\n",
    "                \"score\": {\"$meta\": \"vectorSearchScore\"}  # Return the score for relevance\n",
    "            }\n",
    "        }\n",
    "    ]\n",
    "    \n",
    "    # Execute the aggregation pipeline\n",
    "    results = collection.aggregate(pipeline)\n",
    "    \n",
    "    # Collect results into a list\n",
    "    array_of_results = []\n",
    "    for doc in results:\n",
    "        array_of_results.append(doc)\n",
    "    \n",
    "    return array_of_results\n"
   ]
  },
  {
   "cell_type": "code",
   "execution_count": null,
   "id": "f78567ba-e9ee-4e96-a8a8-efbf564a624f",
   "metadata": {},
   "outputs": [],
   "source": []
  },
  {
   "cell_type": "code",
   "execution_count": 32,
   "id": "ee170e7e-89c8-4d16-887d-c610da210a3e",
   "metadata": {},
   "outputs": [
    {
     "name": "stdout",
     "output_type": "stream",
     "text": [
      "{'_id': '700000683', 'cmsId': '6QLF53JO6JA5LFCQ52CWLHU7JM', 'site': 'DEFAULT', 'subtype': 'DEFAULT', 'paywallStatus': 'DEFAULT', 'redirectUrl': None, 'urlSlug': 'static-images', 'headline': 'Swinging Bridge at Jay Cooke State Park', 'searchHeadline': 'Swinging Bridge at Jay Cooke State Park', 'homepageHeadline': 'Swinging Bridge at Jay Cooke State Park', 'socialHeadline': 'Swinging Bridge at Jay Cooke State Park', 'dek': 'This is a TEST Story with Inline Images', 'searchDek': 'This is a TEST Story with Inline Images', 'jsonBody': [{'__typename': 'BodyParagraph', 'content': 'There have been five versions of the heavily tramped Swinging Bridge at Jay Cooke State Park in Carlton, but there is one number that’s relevant this summer: 100.', 'orientation': 'LEFT', 'html': '<p id=\"UMGNHV2Q5FGRPD6K3LCF2MQOZI\" class=\"text-left\">There have been five versions of the heavily tramped Swinging Bridge at Jay Cooke State Park in Carlton, but there is one number that’s relevant this summer: 100.</p>'}, {'__typename': 'BodyImage', 'caption': 'A group of visitors walked across the swinging bridge in Jay Cooke State Park on Wednesday.', 'title': '', 'orientation': 'LEFT', 'image': {'unpublishDate': None, 'displayDate': '2020-08-13T03:50:20.000Z', 'lastCmsUpdateDate': '2024-08-02T05:41:10.000Z', 'urlSlug': None, 'distributorId': None, 'distributor': None, 'publishedStatus': 'PUBLISHED', 'site': 'DEFAULT', 'sections': [], 'authors': [{'__typename': 'GuestAuthor', 'name': 'Star Tribune', 'organization': 'guest', 'type': 'author', 'bio': ''}], '__typename': 'Image', 'isInArticleBody': True, 'primarySection': None, 'id': '700003674', 'cmsId': 'VALJO2B3FWXMBAQUSNZAO7G7GY', 'byline': None, 'altText': 'A group of visitors walked across the swinging bridge in Jay Cooke State Park on Wednesday.', 'caption': 'A group of visitors walked across the swinging bridge in Jay Cooke State Park on Wednesday.', 'url': 'https://cloudfront-us-east-1.images.arcpublishing.com/sandbox.startribunemedia/VALJO2B3FWXMBAQUSNZAO7G7GY.jpg', 'fileName': 'VALJO2B3FWXMBAQUSNZAO7G7GY.jpg', 'width': 2241, 'height': 1430, 'title': None, 'photographers': [{'__typename': 'GuestAuthor', 'name': 'Star Tribune', 'organization': 'guest', 'type': 'author', 'bio': ''}]}}, {'__typename': 'BodyParagraph', 'content': 'Envision Jay Cooke and the mind’s eye goes to standing on the iconic suspension bridge over the churning, and at times mesmerizing, St. Louis River and its gorge. First built in 1924 by the U.S. Forest Service, the bridge is marking its 100 year with special programs that capture its rise, its fall (more than once), and rebirth. It’s that longevity and resilience that make stepping on it special, said Kris Hiller, the park’s interpretive naturalist.', 'orientation': 'LEFT', 'html': '<p id=\"TVMHFLZAIRFEBEVEAPHPM5XEE4\" class=\"text-left\">Envision Jay Cooke and the mind’s eye goes to standing on the iconic suspension bridge over the churning, and at times mesmerizing, St. Louis River and its gorge. First built in 1924 by the U.S. Forest Service, the bridge is marking its 100 year with special programs that capture its rise, its fall (more than once), and rebirth. It’s that longevity and resilience that make stepping on it special, said Kris Hiller, the park’s interpretive naturalist.</p>'}, {'__typename': 'BodyImage', 'caption': \"David Turley, left, and his husband, Peter Thiede, crossed the swinging bridge in Jay Cooke State Park on Wednesday. The couple was visiting Peter's parents from New York.\", 'title': '', 'orientation': 'LEFT', 'image': {'unpublishDate': None, 'displayDate': '2020-08-13T03:50:16.000Z', 'lastCmsUpdateDate': '2023-12-15T04:33:37.000Z', 'urlSlug': None, 'distributorId': None, 'distributor': None, 'publishedStatus': 'PUBLISHED', 'site': 'DEFAULT', 'sections': [], 'authors': [{'__typename': 'GuestAuthor', 'name': 'Star Tribune', 'organization': 'guest', 'type': 'author', 'bio': ''}], '__typename': 'Image', 'isInArticleBody': True, 'primarySection': None, 'id': 'Asset:21680699', 'cmsId': 'PE3SQVKBQ6XGK5I4GTFKKBIOKQ', 'byline': None, 'altText': \"David Turley, left, and his husband, Peter Thiede, crossed the swinging bridge in Jay Cooke State Park on Wednesday. The couple was visiting Peter's parents from New York.\", 'caption': \"David Turley, left, and his husband, Peter Thiede, crossed the swinging bridge in Jay Cooke State Park on Wednesday. The couple was visiting Peter's parents from New York.\", 'url': 'https://cloudfront-us-east-1.images.arcpublishing.com/sandbox.startribunemedia/PE3SQVKBQ6XGK5I4GTFKKBIOKQ.jpg', 'fileName': 'PE3SQVKBQ6XGK5I4GTFKKBIOKQ.jpg', 'width': 2237, 'height': 1491, 'title': None, 'photographers': [{'__typename': 'GuestAuthor', 'name': 'Star Tribune', 'organization': 'guest', 'type': 'author', 'bio': ''}]}}, {'__typename': 'BodyParagraph', 'content': '<a href=\"https://www.dnr.state.mn.us/state_parks/event.html?id=77537\">Related programs</a> on the bridge’s history happen this weekend, including Saturday, one of the state’s Free Park Days when there is free admission to all of Minnesota’s state parks and recreation areas.', 'orientation': 'LEFT', 'html': '<p id=\"EWHMZPZYSJB5TK2VHGCA2TQFJE\" class=\"text-left\"><a href=\"https://www.dnr.state.mn.us/state_parks/event.html?id=77537\">Related programs</a> on the bridge’s history happen this weekend, including Saturday, one of the state’s Free Park Days when there is free admission to all of Minnesota’s state parks and recreation areas.</p>'}, {'__typename': 'BodyImage', 'caption': 'Damaged vehicles sit on Yeongjong Bridge in Incheon, South Korea, Wednesday, Feb. 11, 2015. Two people were killed and at least 42 were injured on Wednesday after a pileup involving about 100 vehicles in foggy weather on the bridge near the Incheon International Airport, South Korean officials said. (AP Photo/Yonhap, Yun Tae-hyun) KOREA OUT', 'title': 'South_Korea_100_Car_Pileup.jpg', 'orientation': 'LEFT', 'image': {'unpublishDate': None, 'displayDate': '2020-08-13T02:16:28.000Z', 'lastCmsUpdateDate': '2023-12-26T18:21:01.000Z', 'urlSlug': 'damaged-vehicles-sit-on-yeongjong-bridge-in-incheon-south-korea-wednesday-feb.-11-2015.-two-people-were-killed-and-at-least-42-were-injured-on-wednesday-after-a-pileup-involving-about-100-vehicles-in-foggy-weather-on-the-bridge-near-the-incheon-international-airport-south-korean-officials-said.-(ap-photoyonhap-yun-tae-hyun)-korea-out', 'distributorId': None, 'distributor': None, 'publishedStatus': 'PUBLISHED', 'site': 'DEFAULT', 'sections': [], 'authors': [{'__typename': 'GuestAuthor', 'name': 'Associated Press - Ap', 'organization': 'guest', 'type': 'author', 'bio': ''}], '__typename': 'Image', 'isInArticleBody': True, 'primarySection': None, 'id': 'Asset:20923867', 'cmsId': 'FLVN7J75BFVEALR4HRK2C4OKDY', 'byline': None, 'altText': 'Damaged vehicles sit on Yeongjong Bridge in Incheon, South Korea, Wednesday, Feb. 11, 2015. Two people were killed and at least 42 were injured on Wednesday after a pileup involving about 100 vehicles in foggy weather on the bridge near the Incheon International Airport, South Korean officials said. (AP Photo/Yonhap, Yun Tae-hyun) KOREA OUT', 'caption': 'Damaged vehicles sit on Yeongjong Bridge in Incheon, South Korea, Wednesday, Feb. 11, 2015. Two people were killed and at least 42 were injured on Wednesday after a pileup involving about 100 vehicles in foggy weather on the bridge near the Incheon International Airport, South Korean officials said. (AP Photo/Yonhap, Yun Tae-hyun) KOREA OUT', 'url': 'https://cloudfront-us-east-1.images.arcpublishing.com/sandbox.startribunemedia/FLVN7J75BFVEALR4HRK2C4OKDY.jpg', 'fileName': 'FLVN7J75BFVEALR4HRK2C4OKDY.jpg', 'width': 2241, 'height': 1480, 'title': 'South_Korea_100_Car_Pileup.jpg', 'photographers': [{'__typename': 'GuestAuthor', 'name': 'Associated Press - Ap', 'organization': 'guest', 'type': 'author', 'bio': ''}]}}, {'__typename': 'BodyParagraph', 'content': '“When you are walking across the bridge, you are connecting to other generations of visitors who have been walking across this bridge for 100 years,” she said. “I think it just is very cool to think about that.”', 'orientation': 'LEFT', 'html': '<p id=\"5CO6ZUMULJG4FHPJEMAV7GZIQE\" class=\"text-left\">“When you are walking across the bridge, you are connecting to other generations of visitors who have been walking across this bridge for 100 years,” she said. “I think it just is very cool to think about that.”</p>'}, {'__typename': 'BodyParagraph', 'content': 'Those first users in 1924 were on a saggy, wooden boardwalk, 18 feet above the river. (Today, the bridge sits about 25 feet above the river.)', 'orientation': 'LEFT', 'html': '<p id=\"Q5KATBRVXZFWNEG3KRPLCFYZME\" class=\"text-left\">Those first users in 1924 were on a saggy, wooden boardwalk, 18 feet above the river. (Today, the bridge sits about 25 feet above the river.)</p>'}, {'__typename': 'BodyImage', 'caption': 'A man carried his child on his back while crossing the swinging bridge at Jay Cooke State Park on Wednesday.', 'title': '', 'orientation': 'LEFT', 'image': {'unpublishDate': None, 'displayDate': '2020-08-13T03:50:09.000Z', 'lastCmsUpdateDate': '2023-12-15T04:34:00.000Z', 'urlSlug': None, 'distributorId': None, 'distributor': None, 'publishedStatus': 'PUBLISHED', 'site': 'DEFAULT', 'sections': [], 'authors': [{'__typename': 'GuestAuthor', 'name': 'Star Tribune', 'organization': 'guest', 'type': 'author', 'bio': ''}], '__typename': 'Image', 'isInArticleBody': True, 'primarySection': None, 'id': 'Asset:21683753', 'cmsId': 'EALMYCCAALXN5MCXY7BS6QK6ZE', 'byline': None, 'altText': 'A man carried his child on his back while crossing the swinging bridge at Jay Cooke State Park on Wednesday.', 'caption': 'A man carried his child on his back while crossing the swinging bridge at Jay Cooke State Park on Wednesday.', 'url': 'https://cloudfront-us-east-1.images.arcpublishing.com/sandbox.startribunemedia/EALMYCCAALXN5MCXY7BS6QK6ZE.jpg', 'fileName': 'EALMYCCAALXN5MCXY7BS6QK6ZE.jpg', 'width': 2241, 'height': 1469, 'title': None, 'photographers': [{'__typename': 'GuestAuthor', 'name': 'Star Tribune', 'organization': 'guest', 'type': 'author', 'bio': ''}]}}, {'__typename': 'BodyParagraph', 'content': 'The Conservation Corps produced a substantial upgrade in 1934, installing stone pillars that remain today that replaced log cribs. A higher deck was installed in 1940, and dramatic, record flooding in 1950 and then again in 2012 forced two more reconstructions.', 'orientation': 'LEFT', 'html': '<p id=\"AVRZ6Q7TQNBIXJGK72DSKL3BYM\" class=\"text-left\">The Conservation Corps produced a substantial upgrade in 1934, installing stone pillars that remain today that replaced log cribs. A higher deck was installed in 1940, and dramatic, record flooding in 1950 and then again in 2012 forced two more reconstructions.</p>'}, {'__typename': 'BodyParagraph', 'content': 'Centuries ago, the hardwoods and red-clay river gorge were traveled by the Dakota and Ojibwe people and voyageurs, among others. Today it’s present-day inhabitants laying down tracks. Hiller, who has been at Jay Cooke 24 years, reflected on how the bridge is the ultimate connector to the past.', 'orientation': 'LEFT', 'html': '<p id=\"26T37CIWIRBZRH5CBPXISKK6KM\" class=\"text-left\">Centuries ago, the hardwoods and red-clay river gorge were traveled by the Dakota and Ojibwe people and voyageurs, among others. Today it’s present-day inhabitants laying down tracks. Hiller, who has been at Jay Cooke 24 years, reflected on how the bridge is the ultimate connector to the past.</p>'}, {'__typename': 'BodyParagraph', 'content': '“That others looked out on the river, too … you can’t help wondering about what were they thinking about and experiencing,” she said.', 'orientation': 'LEFT', 'html': '<p id=\"X7MQDADUJFHWFOUH2BMQJCEDKU\" class=\"text-left\">“That others looked out on the river, too … you can’t help wondering about what were they thinking about and experiencing,” she said.</p>'}, {'__typename': 'BodyParagraph', 'content': '<i>-Bob Timmons, Star Tribune</i>', 'orientation': 'LEFT', 'html': '<p id=\"MLSCWJ4OJ5DEJL673DNRKINPNM\" class=\"text-left\"><i>-Bob Timmons, Star Tribune</i></p>'}, {'__typename': 'BodyParagraph', 'content': '', 'orientation': 'LEFT', 'html': '<p id=\"HDQ5CBBQL5DO3KXYOO2KZG2M74\" class=\"text-left\"></p>'}], 'allowComments': False, 'displayDate': datetime.datetime(2024, 1, 16, 23, 36, 16, 867000), 'lastCmsUpdateDate': datetime.datetime(2024, 6, 13, 21, 39, 2, 823000), 'hideLeadArt': False, 'hideRightRail': False, 'excludeFromSearchIndexing': False, 'headingLabel': 'Curious Minnesota', 'template': 'DEFAULT', 'lastPersistedDate': datetime.datetime(2024, 7, 2, 18, 43, 11, 278000), 'contentStaleDate': datetime.datetime(2024, 12, 5, 7, 17, 8, 526000), 'jsonAuthors': [{'__typename': 'StarTribuneAuthor', 'isReference': False, 'lastPersistenceDate': None, 'headshot': None, 'illustration': None, 'socialPlatforms': [{'__typename': 'SocialPlatform', 'type': 'LINKEDIN', 'value': 'https://www.linkedin.com/in/abbie-bjugstad-59361352/'}], 'id': '700000804', 'cmsId': 'AbbieBjugstad', 'firstName': 'Abbie', 'middleName': None, 'lastName': 'Bjugstad', 'suffix': None, 'urlSlug': 'abbie test', 'location': None, 'beat': None, 'bio': None, 'shortBio': None, 'byline': 'Abbie Bjugstad', 'status': 'ACTIVE', 'role': None, 'type': None, 'language': None, 'areasOfExpertise': None, 'lastCmsUpdateDate': '2024-04-02T23:31:17.053Z', 'headshotUrl': None, 'illustrationUrl': None, '_email': None, '_website': None, '_phone': None, '_twitter': None, '_facebook': None, '_linkedin': 'https://www.linkedin.com/in/abbie-bjugstad-59361352/', '_rss': None, '_youtube': None, '_tumblr': None, '_instagram': None, '_medium': None, '_reddit': None, '_pinterest': None, '_soundcloud': None, '_snapchat': None, '_whatsapp': None, 'site': 'DEFAULT'}], 'authorIds': ['700000804'], 'tagIds': [], 'tags': [], 'primarySectionTemp': {'name': 'Local', 'path': '/local'}, 'leadArtId': 'clxds1wh7000dtvrskj61p6iv', 'distributor': {'name': 'The Minnesota Star Tribune', 'type': 'staff'}, 'unpublishDate': None, 'corrections': [{'type': 'CORRECTION', 'value': 'This is a correction, not a clarification.'}, {'type': 'CLARIFICATION', 'value': 'This is a clarification, not a correction'}, {'type': 'CORRECTION', 'value': 'Correction: this is not a clarification'}], 'useWebviewInNativeApp': False, 'language': None, 'slug': None, 'homepageDek': 'This is a TEST Story with Inline Images', 'socialDek': 'This is a TEST Story with Inline Images', 'isPartial': False, 'distributorId': None, 'relatedContentIdAndType': [], 'trendingHeadline': 'Swinging Bridge at Jay Cooke State Park', 'sectionPaths': ['/local'], 'lastPersistenceDate': datetime.datetime(2024, 12, 5, 7, 16, 8, 551000), 'publishedStatus': 'PUBLISHED', 'description': None}\n"
     ]
    }
   ],
   "source": [
    "sample_doc = collection.find_one()\n",
    "print(sample_doc)  # Check the structure of the document\n"
   ]
  },
  {
   "cell_type": "code",
   "execution_count": 38,
   "id": "531419cb-25c1-4477-b660-2256070074f9",
   "metadata": {},
   "outputs": [],
   "source": [
    "from sentence_transformers import SentenceTransformer\n",
    "from sklearn.metrics.pairwise import cosine_similarity\n",
    "import pymongo"
   ]
  },
  {
   "cell_type": "code",
   "execution_count": 69,
   "id": "5a830917-b927-452a-ac21-83d1879c83f0",
   "metadata": {},
   "outputs": [
    {
     "name": "stdout",
     "output_type": "stream",
     "text": [
      "Document ID: 700000683, Content: Envision Jay Cooke and the mind’s eye goes to standing on the iconic suspension bridge over the churning, and at times mesmerizing, St. Louis River and its gorge. First built in 1924 by the U.S. Forest Service, the bridge is marking its 100 year with special programs that capture its rise, its fall (more than once), and rebirth. It’s that longevity and resilience that make stepping on it special, said Kris Hiller, the park’s interpretive naturalist., Similarity Score: 0.5928773283958435\n",
      "Document ID: 700000683, Content: Those first users in 1924 were on a saggy, wooden boardwalk, 18 feet above the river. (Today, the bridge sits about 25 feet above the river.), Similarity Score: 0.5780940055847168\n",
      "Document ID: 700000683, Content: “When you are walking across the bridge, you are connecting to other generations of visitors who have been walking across this bridge for 100 years,” she said. “I think it just is very cool to think about that.”, Similarity Score: 0.574474573135376\n",
      "Document ID: 700000683, Content: Centuries ago, the hardwoods and red-clay river gorge were traveled by the Dakota and Ojibwe people and voyageurs, among others. Today it’s present-day inhabitants laying down tracks. Hiller, who has been at Jay Cooke 24 years, reflected on how the bridge is the ultimate connector to the past., Similarity Score: 0.5715849995613098\n",
      "Document ID: 700000683, Content: There have been five versions of the heavily tramped Swinging Bridge at Jay Cooke State Park in Carlton, but there is one number that’s relevant this summer: 100., Similarity Score: 0.5602310299873352\n"
     ]
    }
   ],
   "source": [
    "\n",
    "from pymongo import MongoClient\n",
    "from sentence_transformers import SentenceTransformer\n",
    "from sklearn.metrics.pairwise import cosine_similarity\n",
    "import pymongo\n",
    "\n",
    "# Load the embedding model\n",
    "model = SentenceTransformer('mixedbread-ai/mxbai-embed-large-v1')\n",
    "\n",
    "# Function to generate embeddings\n",
    "def get_embedding(text):\n",
    "    # Ensure the embedding is a 2D array for the cosine_similarity function\n",
    "    return [model.encode(text)]  # Wrap the embedding in a list to ensure it is 2D\n",
    "\n",
    "# Initialize MongoDB connection\n",
    "client = pymongo.MongoClient(ATLAS_CONNECTION_STRING)\n",
    "collection = client[\"contentDeliveryApi\"][\"Article\"]\n",
    "\n",
    "# Example query\n",
    "query = \"bridge\"\n",
    "query_embedding = get_embedding(query)\n",
    "\n",
    "# Use MongoDB Atlas Search to query for relevant documents (using $search stage)\n",
    "pipeline = [\n",
    "    {\n",
    "        \"$search\": {\n",
    "            \"index\": \"bridex\",  # Replace with your actual index name\n",
    "            \"text\": {\n",
    "                \"query\": query,\n",
    "                \"path\": \"headline\",  # Assuming the content is in the 'jsonBody.content' field\n",
    "                #\"path\": [\"jsonBody.content\", \"searchHeadline\"],  # Assuming the content is in the 'jsonBody.content' field\n",
    "                \"fuzzy\": {\n",
    "                    \"maxEdits\": 2\n",
    "                }\n",
    "            }\n",
    "        }\n",
    "    },\n",
    "    {\n",
    "        \"$limit\": 50  # Limit to the first 50 results\n",
    "    }\n",
    "]\n",
    "\n",
    "# Execute the aggregation pipeline to get relevant documents\n",
    "documents = list(collection.aggregate(pipeline))\n",
    "\n",
    "# Function to calculate similarity between query embedding and document content\n",
    "def calculate_similarity(query_embedding, document_content):\n",
    "    doc_embedding = get_embedding(document_content)  # Generate embedding for the document content\n",
    "    similarity_score = cosine_similarity(query_embedding, doc_embedding)[0][0]\n",
    "    return similarity_score\n",
    "\n",
    "# Find the most similar documents based on the query\n",
    "similar_documents = []\n",
    "\n",
    "for doc in documents:\n",
    "    if 'jsonBody' in doc and isinstance(doc['jsonBody'], list):\n",
    "        # Assuming that content is in the \"jsonBody\" field\n",
    "        for paragraph in doc['jsonBody']:\n",
    "            if 'content' in paragraph:\n",
    "                content = paragraph['content']\n",
    "                similarity = calculate_similarity(query_embedding, content)\n",
    "                similar_documents.append((doc['_id'], content, similarity))\n",
    "\n",
    "# Sort the documents by similarity score\n",
    "similar_documents.sort(key=lambda x: x[2], reverse=True)\n",
    "\n",
    "# Create a collection to hold the top 5 results\n",
    "col = []\n",
    "for doc in similar_documents[:5]:\n",
    "    col.append(doc)  # Add each document to the list\n",
    "\n",
    "# Print the top 5 similar documents\n",
    "for doc in col:\n",
    "    print(f\"Document ID: {doc[0]}, Content: {doc[1]}, Similarity Score: {doc[2]}\")"
   ]
  },
  {
   "cell_type": "code",
   "execution_count": 68,
   "id": "ba4d8689-3059-4ea8-a5ea-c2005ab42026",
   "metadata": {},
   "outputs": [
    {
     "data": {
      "text/plain": [
       "[]"
      ]
     },
     "execution_count": 68,
     "metadata": {},
     "output_type": "execute_result"
    }
   ],
   "source": [
    "col"
   ]
  },
  {
   "cell_type": "code",
   "execution_count": null,
   "id": "6106274d-2ae5-484c-a84d-ab78313af136",
   "metadata": {},
   "outputs": [],
   "source": []
  }
 ],
 "metadata": {
  "kernelspec": {
   "display_name": "projectname",
   "language": "python",
   "name": "projectname"
  },
  "language_info": {
   "codemirror_mode": {
    "name": "ipython",
    "version": 3
   },
   "file_extension": ".py",
   "mimetype": "text/x-python",
   "name": "python",
   "nbconvert_exporter": "python",
   "pygments_lexer": "ipython3",
   "version": "3.12.7"
  }
 },
 "nbformat": 4,
 "nbformat_minor": 5
}
